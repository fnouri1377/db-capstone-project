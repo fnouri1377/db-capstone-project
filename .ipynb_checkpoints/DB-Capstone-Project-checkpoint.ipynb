{
 "cells": [
  {
   "cell_type": "code",
   "execution_count": 19,
   "id": "f13e19bd-0321-4b18-b534-05acba480076",
   "metadata": {},
   "outputs": [
    {
     "name": "stdout",
     "output_type": "stream",
     "text": [
      "Requirement already satisfied: mysql-connector-python in c:\\users\\nouri\\appdata\\local\\programs\\python\\python313\\lib\\site-packages (9.1.0)\n",
      "Note: you may need to restart the kernel to use updated packages.\n"
     ]
    },
    {
     "name": "stderr",
     "output_type": "stream",
     "text": [
      "\n",
      "[notice] A new release of pip is available: 24.2 -> 24.3.1\n",
      "[notice] To update, run: C:\\Users\\nouri\\AppData\\Local\\Programs\\Python\\Python313\\python.exe -m pip install --upgrade pip\n"
     ]
    }
   ],
   "source": [
    "pip install mysql-connector-python"
   ]
  },
  {
   "cell_type": "code",
   "execution_count": 21,
   "id": "73a688d4-b10b-457a-ae23-71a3e3c91674",
   "metadata": {},
   "outputs": [],
   "source": [
    "import mysql.connector as connector"
   ]
  },
  {
   "cell_type": "code",
   "execution_count": 22,
   "id": "4d7a352a-dd78-4380-b030-1d772aaeeeaa",
   "metadata": {},
   "outputs": [],
   "source": [
    "connection = connector.connect(user=\"root\", password=\"Fn-@14061377\", db=\"little_lemon_db\")"
   ]
  },
  {
   "cell_type": "code",
   "execution_count": 23,
   "id": "748633bf-3bcf-4a7d-95ab-e22f0857e268",
   "metadata": {},
   "outputs": [],
   "source": [
    "cursor = connection.cursor()"
   ]
  },
  {
   "cell_type": "code",
   "execution_count": 24,
   "id": "c47eea85-d2a5-4657-b67b-c70e918fe474",
   "metadata": {},
   "outputs": [],
   "source": [
    "show_tables_query = \"show tables\"\n",
    "cursor.execute(show_tables_query)"
   ]
  },
  {
   "cell_type": "code",
   "execution_count": 25,
   "id": "e4e83058-4ff8-4ef0-b948-cc70de0c1ca6",
   "metadata": {},
   "outputs": [],
   "source": [
    "tables_results = cursor.fetchall()"
   ]
  },
  {
   "cell_type": "code",
   "execution_count": 26,
   "id": "3e782ead-fd5f-4d31-959b-9ade2c07720b",
   "metadata": {},
   "outputs": [
    {
     "name": "stdout",
     "output_type": "stream",
     "text": [
      "[('bookings',), ('customers',), ('menu',), ('menuitems',), ('order_delivery_status',), ('orders',), ('ordersview',), ('staff_information',)]\n"
     ]
    }
   ],
   "source": [
    "print(results)"
   ]
  },
  {
   "cell_type": "code",
   "execution_count": 27,
   "id": "1997aee6-188d-44a3-ac18-2ef49b7cd4c5",
   "metadata": {},
   "outputs": [],
   "source": [
    "join_query = \"\"\"\n",
    "select\n",
    "    C.name,\n",
    "    C.contact_details,\n",
    "    O.total_cost\n",
    "from\n",
    "    Customers as C\n",
    "    inner join\n",
    "    Orders as O\n",
    "on\n",
    "    C.customer_id = O.customer_id\n",
    "where\n",
    "    O.total_cost > 60;\n",
    "\"\"\"\n",
    "cursor.execute(join_query)"
   ]
  },
  {
   "cell_type": "code",
   "execution_count": 28,
   "id": "cb7ef3e9-bdf3-46c8-b486-5d916817b97f",
   "metadata": {},
   "outputs": [],
   "source": [
    "join_results = cursor.fetchall()"
   ]
  },
  {
   "cell_type": "code",
   "execution_count": 29,
   "id": "f0d3740a-9633-49c1-aa5d-012bed41e647",
   "metadata": {},
   "outputs": [
    {
     "name": "stdout",
     "output_type": "stream",
     "text": [
      "[]\n"
     ]
    }
   ],
   "source": [
    "print(join_results)"
   ]
  }
 ],
 "metadata": {
  "kernelspec": {
   "display_name": "Python 3 (ipykernel)",
   "language": "python",
   "name": "python3"
  },
  "language_info": {
   "codemirror_mode": {
    "name": "ipython",
    "version": 3
   },
   "file_extension": ".py",
   "mimetype": "text/x-python",
   "name": "python",
   "nbconvert_exporter": "python",
   "pygments_lexer": "ipython3",
   "version": "3.13.0"
  }
 },
 "nbformat": 4,
 "nbformat_minor": 5
}
